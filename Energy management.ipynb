{
 "cells": [
  {
   "cell_type": "markdown",
   "id": "d17d6f25",
   "metadata": {},
   "source": [
    "## Import libraries and datasets"
   ]
  },
  {
   "cell_type": "code",
   "execution_count": 1,
   "id": "12ee57d5",
   "metadata": {},
   "outputs": [],
   "source": [
    "import numpy as np\n",
    "import pandas as pd\n",
    "import matplotlib.pyplot as plt\n",
    "import seaborn as sns"
   ]
  },
  {
   "cell_type": "code",
   "execution_count": 2,
   "id": "420003bb",
   "metadata": {},
   "outputs": [],
   "source": [
    "import warnings\n",
    "warnings.filterwarnings(\"ignore\")"
   ]
  },
  {
   "cell_type": "code",
   "execution_count": 3,
   "id": "603c2a1e",
   "metadata": {},
   "outputs": [],
   "source": [
    "data = pd.read_csv(\"C:/Users/AANCHAL/OneDrive - vit.ac.in/practice_data/chicago-energy-benchmarking-1.csv\")"
   ]
  },
  {
   "cell_type": "markdown",
   "id": "f80a9858",
   "metadata": {},
   "source": [
    "### Descriptive statistics"
   ]
  },
  {
   "cell_type": "code",
   "execution_count": 4,
   "id": "4731e87e",
   "metadata": {},
   "outputs": [
    {
     "data": {
      "text/html": [
       "<div>\n",
       "<style scoped>\n",
       "    .dataframe tbody tr th:only-of-type {\n",
       "        vertical-align: middle;\n",
       "    }\n",
       "\n",
       "    .dataframe tbody tr th {\n",
       "        vertical-align: top;\n",
       "    }\n",
       "\n",
       "    .dataframe thead th {\n",
       "        text-align: right;\n",
       "    }\n",
       "</style>\n",
       "<table border=\"1\" class=\"dataframe\">\n",
       "  <thead>\n",
       "    <tr style=\"text-align: right;\">\n",
       "      <th></th>\n",
       "      <th>Data Year</th>\n",
       "      <th>ID</th>\n",
       "      <th>Property Name</th>\n",
       "      <th>Address</th>\n",
       "      <th>ZIP Code</th>\n",
       "      <th>Community Area</th>\n",
       "      <th>Primary Property Type</th>\n",
       "      <th>Gross Floor Area - Buildings (sq ft)</th>\n",
       "      <th>Year Built</th>\n",
       "      <th># of Buildings</th>\n",
       "      <th>...</th>\n",
       "      <th>All Other Fuel Use (kBtu)</th>\n",
       "      <th>Site EUI (kBtu/sq ft)</th>\n",
       "      <th>Source EUI (kBtu/sq ft)</th>\n",
       "      <th>Weather Normalized Site EUI (kBtu/sq ft)</th>\n",
       "      <th>Weather Normalized Source EUI (kBtu/sq ft)</th>\n",
       "      <th>Total GHG Emissions (Metric Tons CO2e)</th>\n",
       "      <th>GHG Intensity (kg CO2e/sq ft)</th>\n",
       "      <th>Latitude</th>\n",
       "      <th>Longitude</th>\n",
       "      <th>Location</th>\n",
       "    </tr>\n",
       "  </thead>\n",
       "  <tbody>\n",
       "    <tr>\n",
       "      <th>0</th>\n",
       "      <td>2014</td>\n",
       "      <td>157767</td>\n",
       "      <td>Roosevelt Hi-CPS</td>\n",
       "      <td>3436 W WILSON AVE</td>\n",
       "      <td>60625</td>\n",
       "      <td>ALBANY PARK</td>\n",
       "      <td>K-12 School</td>\n",
       "      <td>319900.0</td>\n",
       "      <td>1927.0</td>\n",
       "      <td>1</td>\n",
       "      <td>...</td>\n",
       "      <td>NaN</td>\n",
       "      <td>80.0</td>\n",
       "      <td>129.0</td>\n",
       "      <td>75.0</td>\n",
       "      <td>122.0</td>\n",
       "      <td>2379.0</td>\n",
       "      <td>7.44</td>\n",
       "      <td>41.965013</td>\n",
       "      <td>-87.714513</td>\n",
       "      <td>(41.96501325, -87.71451268)</td>\n",
       "    </tr>\n",
       "    <tr>\n",
       "      <th>1</th>\n",
       "      <td>2014</td>\n",
       "      <td>100256</td>\n",
       "      <td>Curie Metrop-CPS</td>\n",
       "      <td>4975 S Archer</td>\n",
       "      <td>60632</td>\n",
       "      <td>ARCHER HEIGHTS</td>\n",
       "      <td>K-12 School</td>\n",
       "      <td>447330.0</td>\n",
       "      <td>1990.0</td>\n",
       "      <td>1</td>\n",
       "      <td>...</td>\n",
       "      <td>NaN</td>\n",
       "      <td>96.0</td>\n",
       "      <td>268.0</td>\n",
       "      <td>93.0</td>\n",
       "      <td>261.0</td>\n",
       "      <td>7573.0</td>\n",
       "      <td>16.93</td>\n",
       "      <td>41.802759</td>\n",
       "      <td>-87.722671</td>\n",
       "      <td>(41.802759, -87.722671)</td>\n",
       "    </tr>\n",
       "    <tr>\n",
       "      <th>2</th>\n",
       "      <td>2014</td>\n",
       "      <td>101551</td>\n",
       "      <td>METROPOLITIAN PIER AND EXPOSITION AUTHORITY</td>\n",
       "      <td>301 Cermak Road</td>\n",
       "      <td>60616</td>\n",
       "      <td>ARMOUR SQUARE</td>\n",
       "      <td>Convention Center</td>\n",
       "      <td>9245333.0</td>\n",
       "      <td>1971.0</td>\n",
       "      <td>8</td>\n",
       "      <td>...</td>\n",
       "      <td>NaN</td>\n",
       "      <td>90.0</td>\n",
       "      <td>204.0</td>\n",
       "      <td>86.0</td>\n",
       "      <td>200.0</td>\n",
       "      <td>115833.0</td>\n",
       "      <td>12.53</td>\n",
       "      <td>41.852840</td>\n",
       "      <td>-87.634931</td>\n",
       "      <td>(41.85284, -87.634931)</td>\n",
       "    </tr>\n",
       "    <tr>\n",
       "      <th>3</th>\n",
       "      <td>2014</td>\n",
       "      <td>100396</td>\n",
       "      <td>St. Rita of Cascia High School</td>\n",
       "      <td>7740 South Western Avenue</td>\n",
       "      <td>60620</td>\n",
       "      <td>ASHBURN</td>\n",
       "      <td>K-12 School</td>\n",
       "      <td>250000.0</td>\n",
       "      <td>1960.0</td>\n",
       "      <td>1</td>\n",
       "      <td>...</td>\n",
       "      <td>NaN</td>\n",
       "      <td>84.0</td>\n",
       "      <td>139.0</td>\n",
       "      <td>80.0</td>\n",
       "      <td>135.0</td>\n",
       "      <td>2010.0</td>\n",
       "      <td>8.04</td>\n",
       "      <td>41.752003</td>\n",
       "      <td>-87.684637</td>\n",
       "      <td>(41.7520028, -87.68463714)</td>\n",
       "    </tr>\n",
       "    <tr>\n",
       "      <th>4</th>\n",
       "      <td>2014</td>\n",
       "      <td>250052</td>\n",
       "      <td>Steinmetz Ac-CPS</td>\n",
       "      <td>3030 N MOBILE AVE</td>\n",
       "      <td>60634</td>\n",
       "      <td>BELMONT CRAGIN</td>\n",
       "      <td>K-12 School</td>\n",
       "      <td>323400.0</td>\n",
       "      <td>1934.0</td>\n",
       "      <td>1</td>\n",
       "      <td>...</td>\n",
       "      <td>NaN</td>\n",
       "      <td>85.0</td>\n",
       "      <td>142.0</td>\n",
       "      <td>80.0</td>\n",
       "      <td>136.0</td>\n",
       "      <td>2664.0</td>\n",
       "      <td>8.24</td>\n",
       "      <td>41.935603</td>\n",
       "      <td>-87.784340</td>\n",
       "      <td>(41.93560335, -87.7843396)</td>\n",
       "    </tr>\n",
       "  </tbody>\n",
       "</table>\n",
       "<p>5 rows × 25 columns</p>\n",
       "</div>"
      ],
      "text/plain": [
       "   Data Year      ID                                Property Name  \\\n",
       "0       2014  157767                             Roosevelt Hi-CPS   \n",
       "1       2014  100256                             Curie Metrop-CPS   \n",
       "2       2014  101551  METROPOLITIAN PIER AND EXPOSITION AUTHORITY   \n",
       "3       2014  100396               St. Rita of Cascia High School   \n",
       "4       2014  250052                             Steinmetz Ac-CPS   \n",
       "\n",
       "                     Address ZIP Code  Community Area Primary Property Type  \\\n",
       "0          3436 W WILSON AVE    60625     ALBANY PARK           K-12 School   \n",
       "1              4975 S Archer    60632  ARCHER HEIGHTS           K-12 School   \n",
       "2            301 Cermak Road    60616   ARMOUR SQUARE     Convention Center   \n",
       "3  7740 South Western Avenue    60620         ASHBURN           K-12 School   \n",
       "4          3030 N MOBILE AVE    60634  BELMONT CRAGIN           K-12 School   \n",
       "\n",
       "   Gross Floor Area - Buildings (sq ft)  Year Built  # of Buildings  ...  \\\n",
       "0                              319900.0      1927.0               1  ...   \n",
       "1                              447330.0      1990.0               1  ...   \n",
       "2                             9245333.0      1971.0               8  ...   \n",
       "3                              250000.0      1960.0               1  ...   \n",
       "4                              323400.0      1934.0               1  ...   \n",
       "\n",
       "   All Other Fuel Use (kBtu)  Site EUI (kBtu/sq ft)  Source EUI (kBtu/sq ft)  \\\n",
       "0                        NaN                   80.0                    129.0   \n",
       "1                        NaN                   96.0                    268.0   \n",
       "2                        NaN                   90.0                    204.0   \n",
       "3                        NaN                   84.0                    139.0   \n",
       "4                        NaN                   85.0                    142.0   \n",
       "\n",
       "   Weather Normalized Site EUI (kBtu/sq ft)  \\\n",
       "0                                      75.0   \n",
       "1                                      93.0   \n",
       "2                                      86.0   \n",
       "3                                      80.0   \n",
       "4                                      80.0   \n",
       "\n",
       "   Weather Normalized Source EUI (kBtu/sq ft)  \\\n",
       "0                                       122.0   \n",
       "1                                       261.0   \n",
       "2                                       200.0   \n",
       "3                                       135.0   \n",
       "4                                       136.0   \n",
       "\n",
       "   Total GHG Emissions (Metric Tons CO2e)  GHG Intensity (kg CO2e/sq ft)  \\\n",
       "0                                  2379.0                           7.44   \n",
       "1                                  7573.0                          16.93   \n",
       "2                                115833.0                          12.53   \n",
       "3                                  2010.0                           8.04   \n",
       "4                                  2664.0                           8.24   \n",
       "\n",
       "    Latitude  Longitude                     Location  \n",
       "0  41.965013 -87.714513  (41.96501325, -87.71451268)  \n",
       "1  41.802759 -87.722671      (41.802759, -87.722671)  \n",
       "2  41.852840 -87.634931       (41.85284, -87.634931)  \n",
       "3  41.752003 -87.684637   (41.7520028, -87.68463714)  \n",
       "4  41.935603 -87.784340   (41.93560335, -87.7843396)  \n",
       "\n",
       "[5 rows x 25 columns]"
      ]
     },
     "execution_count": 4,
     "metadata": {},
     "output_type": "execute_result"
    }
   ],
   "source": [
    "data.head()"
   ]
  },
  {
   "cell_type": "code",
   "execution_count": 5,
   "id": "0de47b28",
   "metadata": {
    "scrolled": true
   },
   "outputs": [
    {
     "data": {
      "text/plain": [
       "Index(['Data Year', 'ID', 'Property Name', 'Address', 'ZIP Code',\n",
       "       'Community Area', 'Primary Property Type',\n",
       "       'Gross Floor Area - Buildings (sq ft)', 'Year Built', '# of Buildings',\n",
       "       'ENERGY STAR Score', 'Electricity Use (kBtu)', 'Natural Gas Use (kBtu)',\n",
       "       'District Steam Use (kBtu)', 'District Chilled Water Use (kBtu)',\n",
       "       'All Other Fuel Use (kBtu)', 'Site EUI (kBtu/sq ft)',\n",
       "       'Source EUI (kBtu/sq ft)', 'Weather Normalized Site EUI (kBtu/sq ft)',\n",
       "       'Weather Normalized Source EUI (kBtu/sq ft)',\n",
       "       'Total GHG Emissions (Metric Tons CO2e)',\n",
       "       'GHG Intensity (kg CO2e/sq ft)', 'Latitude', 'Longitude', 'Location'],\n",
       "      dtype='object')"
      ]
     },
     "execution_count": 5,
     "metadata": {},
     "output_type": "execute_result"
    }
   ],
   "source": [
    "data.columns"
   ]
  },
  {
   "cell_type": "code",
   "execution_count": 6,
   "id": "46bf3a8a",
   "metadata": {},
   "outputs": [],
   "source": [
    "attributes = ['Gross Floor Area - Buildings (sq ft)', 'Electricity Use (kBtu)', '# of Buildings','Weather Normalized Source EUI (kBtu/sq ft)']\n",
    "df = data[attributes]"
   ]
  },
  {
   "cell_type": "code",
   "execution_count": 7,
   "id": "2fcd4ae8",
   "metadata": {},
   "outputs": [
    {
     "data": {
      "text/plain": [
       "(4481, 4)"
      ]
     },
     "execution_count": 7,
     "metadata": {},
     "output_type": "execute_result"
    }
   ],
   "source": [
    "df.shape"
   ]
  },
  {
   "cell_type": "code",
   "execution_count": 8,
   "id": "f2d8ed62",
   "metadata": {
    "scrolled": false
   },
   "outputs": [
    {
     "name": "stdout",
     "output_type": "stream",
     "text": [
      "<class 'pandas.core.frame.DataFrame'>\n",
      "RangeIndex: 4481 entries, 0 to 4480\n",
      "Data columns (total 4 columns):\n",
      " #   Column                                      Non-Null Count  Dtype  \n",
      "---  ------                                      --------------  -----  \n",
      " 0   Gross Floor Area - Buildings (sq ft)        4481 non-null   float64\n",
      " 1   Electricity Use (kBtu)                      4455 non-null   float64\n",
      " 2   # of Buildings                              4481 non-null   int64  \n",
      " 3   Weather Normalized Source EUI (kBtu/sq ft)  4392 non-null   float64\n",
      "dtypes: float64(3), int64(1)\n",
      "memory usage: 140.2 KB\n"
     ]
    }
   ],
   "source": [
    "df.info()"
   ]
  },
  {
   "cell_type": "code",
   "execution_count": 9,
   "id": "3313f6f8",
   "metadata": {
    "scrolled": true
   },
   "outputs": [
    {
     "data": {
      "text/plain": [
       "Gross Floor Area - Buildings (sq ft)           0\n",
       "Electricity Use (kBtu)                        26\n",
       "# of Buildings                                 0\n",
       "Weather Normalized Source EUI (kBtu/sq ft)    89\n",
       "dtype: int64"
      ]
     },
     "execution_count": 9,
     "metadata": {},
     "output_type": "execute_result"
    }
   ],
   "source": [
    "df.isnull().sum()"
   ]
  },
  {
   "cell_type": "code",
   "execution_count": 10,
   "id": "908be7c8",
   "metadata": {},
   "outputs": [
    {
     "data": {
      "text/html": [
       "<div>\n",
       "<style scoped>\n",
       "    .dataframe tbody tr th:only-of-type {\n",
       "        vertical-align: middle;\n",
       "    }\n",
       "\n",
       "    .dataframe tbody tr th {\n",
       "        vertical-align: top;\n",
       "    }\n",
       "\n",
       "    .dataframe thead th {\n",
       "        text-align: right;\n",
       "    }\n",
       "</style>\n",
       "<table border=\"1\" class=\"dataframe\">\n",
       "  <thead>\n",
       "    <tr style=\"text-align: right;\">\n",
       "      <th></th>\n",
       "      <th>count</th>\n",
       "      <th>mean</th>\n",
       "      <th>std</th>\n",
       "      <th>min</th>\n",
       "      <th>25%</th>\n",
       "      <th>50%</th>\n",
       "      <th>75%</th>\n",
       "      <th>max</th>\n",
       "    </tr>\n",
       "  </thead>\n",
       "  <tbody>\n",
       "    <tr>\n",
       "      <th>Gross Floor Area - Buildings (sq ft)</th>\n",
       "      <td>4481.0</td>\n",
       "      <td>3.119045e+05</td>\n",
       "      <td>4.958713e+05</td>\n",
       "      <td>44575.0</td>\n",
       "      <td>80000.0</td>\n",
       "      <td>145784.0</td>\n",
       "      <td>344016.0</td>\n",
       "      <td>9245333.0</td>\n",
       "    </tr>\n",
       "    <tr>\n",
       "      <th>Electricity Use (kBtu)</th>\n",
       "      <td>4455.0</td>\n",
       "      <td>1.512939e+07</td>\n",
       "      <td>3.224181e+07</td>\n",
       "      <td>214.0</td>\n",
       "      <td>2362654.8</td>\n",
       "      <td>5494589.3</td>\n",
       "      <td>13108450.0</td>\n",
       "      <td>495368832.0</td>\n",
       "    </tr>\n",
       "    <tr>\n",
       "      <th># of Buildings</th>\n",
       "      <td>4481.0</td>\n",
       "      <td>1.499219e+00</td>\n",
       "      <td>5.836734e+00</td>\n",
       "      <td>1.0</td>\n",
       "      <td>1.0</td>\n",
       "      <td>1.0</td>\n",
       "      <td>1.0</td>\n",
       "      <td>236.0</td>\n",
       "    </tr>\n",
       "    <tr>\n",
       "      <th>Weather Normalized Source EUI (kBtu/sq ft)</th>\n",
       "      <td>4392.0</td>\n",
       "      <td>2.026243e+02</td>\n",
       "      <td>2.713703e+02</td>\n",
       "      <td>0.3</td>\n",
       "      <td>124.8</td>\n",
       "      <td>161.4</td>\n",
       "      <td>216.3</td>\n",
       "      <td>8550.4</td>\n",
       "    </tr>\n",
       "  </tbody>\n",
       "</table>\n",
       "</div>"
      ],
      "text/plain": [
       "                                             count          mean  \\\n",
       "Gross Floor Area - Buildings (sq ft)        4481.0  3.119045e+05   \n",
       "Electricity Use (kBtu)                      4455.0  1.512939e+07   \n",
       "# of Buildings                              4481.0  1.499219e+00   \n",
       "Weather Normalized Source EUI (kBtu/sq ft)  4392.0  2.026243e+02   \n",
       "\n",
       "                                                     std      min        25%  \\\n",
       "Gross Floor Area - Buildings (sq ft)        4.958713e+05  44575.0    80000.0   \n",
       "Electricity Use (kBtu)                      3.224181e+07    214.0  2362654.8   \n",
       "# of Buildings                              5.836734e+00      1.0        1.0   \n",
       "Weather Normalized Source EUI (kBtu/sq ft)  2.713703e+02      0.3      124.8   \n",
       "\n",
       "                                                  50%         75%          max  \n",
       "Gross Floor Area - Buildings (sq ft)         145784.0    344016.0    9245333.0  \n",
       "Electricity Use (kBtu)                      5494589.3  13108450.0  495368832.0  \n",
       "# of Buildings                                    1.0         1.0        236.0  \n",
       "Weather Normalized Source EUI (kBtu/sq ft)      161.4       216.3       8550.4  "
      ]
     },
     "execution_count": 10,
     "metadata": {},
     "output_type": "execute_result"
    }
   ],
   "source": [
    "df.describe().T"
   ]
  },
  {
   "cell_type": "markdown",
   "id": "a31ba68d",
   "metadata": {},
   "source": [
    "### Data Cleaning"
   ]
  },
  {
   "cell_type": "code",
   "execution_count": 11,
   "id": "fb3528bf",
   "metadata": {},
   "outputs": [],
   "source": [
    "df['Weather Normalized Source EUI (kBtu/sq ft)'].fillna(df['Weather Normalized Source EUI (kBtu/sq ft)'].mean(), inplace=True)\n",
    "df['Electricity Use (kBtu)'].fillna(df['Electricity Use (kBtu)'].mean(), inplace=True)"
   ]
  },
  {
   "cell_type": "code",
   "execution_count": 12,
   "id": "08f5f6df",
   "metadata": {
    "scrolled": true
   },
   "outputs": [
    {
     "data": {
      "text/plain": [
       "0     122.000000\n",
       "1     261.000000\n",
       "2     200.000000\n",
       "3     135.000000\n",
       "4     136.000000\n",
       "5     146.000000\n",
       "6     433.000000\n",
       "7     222.000000\n",
       "8     135.000000\n",
       "9     202.624294\n",
       "10    111.000000\n",
       "Name: Weather Normalized Source EUI (kBtu/sq ft), dtype: float64"
      ]
     },
     "execution_count": 12,
     "metadata": {},
     "output_type": "execute_result"
    }
   ],
   "source": [
    "df['Weather Normalized Source EUI (kBtu/sq ft)'].head(11)"
   ]
  },
  {
   "cell_type": "code",
   "execution_count": 13,
   "id": "647ce0d6",
   "metadata": {},
   "outputs": [
    {
     "data": {
      "text/plain": [
       "Gross Floor Area - Buildings (sq ft)          0\n",
       "Electricity Use (kBtu)                        0\n",
       "# of Buildings                                0\n",
       "Weather Normalized Source EUI (kBtu/sq ft)    0\n",
       "dtype: int64"
      ]
     },
     "execution_count": 13,
     "metadata": {},
     "output_type": "execute_result"
    }
   ],
   "source": [
    "df.isnull().sum()"
   ]
  },
  {
   "cell_type": "code",
   "execution_count": 14,
   "id": "b3f3407b",
   "metadata": {},
   "outputs": [
    {
     "data": {
      "text/html": [
       "<div>\n",
       "<style scoped>\n",
       "    .dataframe tbody tr th:only-of-type {\n",
       "        vertical-align: middle;\n",
       "    }\n",
       "\n",
       "    .dataframe tbody tr th {\n",
       "        vertical-align: top;\n",
       "    }\n",
       "\n",
       "    .dataframe thead th {\n",
       "        text-align: right;\n",
       "    }\n",
       "</style>\n",
       "<table border=\"1\" class=\"dataframe\">\n",
       "  <thead>\n",
       "    <tr style=\"text-align: right;\">\n",
       "      <th></th>\n",
       "      <th>count</th>\n",
       "      <th>mean</th>\n",
       "      <th>std</th>\n",
       "      <th>min</th>\n",
       "      <th>25%</th>\n",
       "      <th>50%</th>\n",
       "      <th>75%</th>\n",
       "      <th>max</th>\n",
       "    </tr>\n",
       "  </thead>\n",
       "  <tbody>\n",
       "    <tr>\n",
       "      <th>Gross Floor Area - Buildings (sq ft)</th>\n",
       "      <td>4481.0</td>\n",
       "      <td>3.119045e+05</td>\n",
       "      <td>4.958713e+05</td>\n",
       "      <td>44575.0</td>\n",
       "      <td>80000.0</td>\n",
       "      <td>145784.0</td>\n",
       "      <td>344016.0</td>\n",
       "      <td>9245333.0</td>\n",
       "    </tr>\n",
       "    <tr>\n",
       "      <th>Electricity Use (kBtu)</th>\n",
       "      <td>4481.0</td>\n",
       "      <td>1.512939e+07</td>\n",
       "      <td>3.214812e+07</td>\n",
       "      <td>214.0</td>\n",
       "      <td>2368893.3</td>\n",
       "      <td>5526792.0</td>\n",
       "      <td>13343311.8</td>\n",
       "      <td>495368832.0</td>\n",
       "    </tr>\n",
       "    <tr>\n",
       "      <th># of Buildings</th>\n",
       "      <td>4481.0</td>\n",
       "      <td>1.499219e+00</td>\n",
       "      <td>5.836734e+00</td>\n",
       "      <td>1.0</td>\n",
       "      <td>1.0</td>\n",
       "      <td>1.0</td>\n",
       "      <td>1.0</td>\n",
       "      <td>236.0</td>\n",
       "    </tr>\n",
       "    <tr>\n",
       "      <th>Weather Normalized Source EUI (kBtu/sq ft)</th>\n",
       "      <td>4481.0</td>\n",
       "      <td>2.026243e+02</td>\n",
       "      <td>2.686612e+02</td>\n",
       "      <td>0.3</td>\n",
       "      <td>125.5</td>\n",
       "      <td>163.5</td>\n",
       "      <td>214.9</td>\n",
       "      <td>8550.4</td>\n",
       "    </tr>\n",
       "  </tbody>\n",
       "</table>\n",
       "</div>"
      ],
      "text/plain": [
       "                                             count          mean  \\\n",
       "Gross Floor Area - Buildings (sq ft)        4481.0  3.119045e+05   \n",
       "Electricity Use (kBtu)                      4481.0  1.512939e+07   \n",
       "# of Buildings                              4481.0  1.499219e+00   \n",
       "Weather Normalized Source EUI (kBtu/sq ft)  4481.0  2.026243e+02   \n",
       "\n",
       "                                                     std      min        25%  \\\n",
       "Gross Floor Area - Buildings (sq ft)        4.958713e+05  44575.0    80000.0   \n",
       "Electricity Use (kBtu)                      3.214812e+07    214.0  2368893.3   \n",
       "# of Buildings                              5.836734e+00      1.0        1.0   \n",
       "Weather Normalized Source EUI (kBtu/sq ft)  2.686612e+02      0.3      125.5   \n",
       "\n",
       "                                                  50%         75%          max  \n",
       "Gross Floor Area - Buildings (sq ft)         145784.0    344016.0    9245333.0  \n",
       "Electricity Use (kBtu)                      5526792.0  13343311.8  495368832.0  \n",
       "# of Buildings                                    1.0         1.0        236.0  \n",
       "Weather Normalized Source EUI (kBtu/sq ft)      163.5       214.9       8550.4  "
      ]
     },
     "execution_count": 14,
     "metadata": {},
     "output_type": "execute_result"
    }
   ],
   "source": [
    "df.describe().T"
   ]
  },
  {
   "cell_type": "code",
   "execution_count": 15,
   "id": "6fd37b04",
   "metadata": {},
   "outputs": [
    {
     "data": {
      "text/plain": [
       "Gross Floor Area - Buildings (sq ft)          2628\n",
       "Electricity Use (kBtu)                        4451\n",
       "# of Buildings                                  30\n",
       "Weather Normalized Source EUI (kBtu/sq ft)    2238\n",
       "dtype: int64"
      ]
     },
     "execution_count": 15,
     "metadata": {},
     "output_type": "execute_result"
    }
   ],
   "source": [
    "df.nunique()"
   ]
  },
  {
   "cell_type": "markdown",
   "id": "339a721f",
   "metadata": {},
   "source": [
    "## Data visualization"
   ]
  },
  {
   "cell_type": "markdown",
   "id": "0ff501ee",
   "metadata": {},
   "source": [
    "##### Histogram"
   ]
  },
  {
   "cell_type": "code",
   "execution_count": 16,
   "id": "8edcc1aa",
   "metadata": {},
   "outputs": [
    {
     "data": {
      "image/png": "[encoded data removed]",
      "text/plain": [
       "<Figure size 576x432 with 1 Axes>"
      ]
     },
     "metadata": {
      "needs_background": "light"
     },
     "output_type": "display_data"
    }
   ],
   "source": [
    "plt.figure(figsize=(8, 6))\n",
    "plt.hist(df['Electricity Use (kBtu)'], bins=30, color='skyblue')\n",
    "plt.title(\"Electricity Use Distribution\")\n",
    "plt.xlabel(\"Electricity Use (kBtu)\")\n",
    "plt.ylabel(\"Frequency\")\n",
    "plt.show()"
   ]
  },
  {
   "cell_type": "markdown",
   "id": "1f440478",
   "metadata": {},
   "source": [
    "#### Scatter plot"
   ]
  },
  {
   "cell_type": "code",
   "execution_count": 17,
   "id": "79c4b1ea",
   "metadata": {},
   "outputs": [
    {
     "data": {
      "image/png": "[encoded data removed]",
      "text/plain": [
       "<Figure size 576x432 with 1 Axes>"
      ]
     },
     "metadata": {
      "needs_background": "light"
     },
     "output_type": "display_data"
    }
   ],
   "source": [
    "plt.figure(figsize=(8, 6))\n",
    "plt.scatter(df['Gross Floor Area - Buildings (sq ft)'], df['Electricity Use (kBtu)'], color='cyan')\n",
    "plt.title(\"Correlation between Gross Floor Area and Electricity Use\")\n",
    "plt.xlabel(\"Gross Floor Area - Buildings (sq ft)\")\n",
    "plt.ylabel(\"Electricity Use (kBtu)\")\n",
    "plt.show()"
   ]
  },
  {
   "cell_type": "markdown",
   "id": "1646b019",
   "metadata": {},
   "source": [
    "#### Pair plot"
   ]
  },
  {
   "cell_type": "code",
   "execution_count": 18,
   "id": "3d57f19e",
   "metadata": {},
   "outputs": [
    {
     "data": {
      "image/png": "[encoded data removed]",
      "text/plain": [
       "<Figure size 720x720 with 20 Axes>"
      ]
     },
     "metadata": {
      "needs_background": "light"
     },
     "output_type": "display_data"
    }
   ],
   "source": [
    "# Create a pair plot\n",
    "sns.pairplot(df)\n",
    "plt.show()"
   ]
  },
  {
   "cell_type": "markdown",
   "id": "80fc92de",
   "metadata": {},
   "source": [
    "#### Heatmap"
   ]
  },
  {
   "cell_type": "code",
   "execution_count": 19,
   "id": "7c0f7ab5",
   "metadata": {},
   "outputs": [
    {
     "data": {
      "text/plain": [
       "<Axes: >"
      ]
     },
     "execution_count": 19,
     "metadata": {},
     "output_type": "execute_result"
    },
    {
     "data": {
      "image/png": "[encoded data removed]",
      "text/plain": [
       "<Figure size 720x720 with 2 Axes>"
      ]
     },
     "metadata": {
      "needs_background": "light"
     },
     "output_type": "display_data"
    }
   ],
   "source": [
    "fig, ax = plt.subplots(figsize=(10,10))\n",
    "\n",
    "correlation_matrix = df.corr()\n",
    "sns.heatmap(correlation_matrix, annot=True, cmap=\"coolwarm\")"
   ]
  },
  {
   "cell_type": "markdown",
   "id": "fea0e869",
   "metadata": {},
   "source": [
    "## Data pre-processing\n",
    "\n",
    "For outlier removal, z-score capping is used"
   ]
  },
  {
   "cell_type": "code",
   "execution_count": 20,
   "id": "87723c8c",
   "metadata": {},
   "outputs": [],
   "source": [
    "def outlier_detec(col):\n",
    "    mean = np.mean(col)\n",
    "    sd = np.std(col)\n",
    "    upp_bd = mean + 3*sd\n",
    "    low_bd = mean - 3*sd\n",
    "    return upp_bd, low_bd"
   ]
  },
  {
   "cell_type": "code",
   "execution_count": 21,
   "id": "924dc438",
   "metadata": {},
   "outputs": [
    {
     "data": {
      "text/html": [
       "<div>\n",
       "<style scoped>\n",
       "    .dataframe tbody tr th:only-of-type {\n",
       "        vertical-align: middle;\n",
       "    }\n",
       "\n",
       "    .dataframe tbody tr th {\n",
       "        vertical-align: top;\n",
       "    }\n",
       "\n",
       "    .dataframe thead th {\n",
       "        text-align: right;\n",
       "    }\n",
       "</style>\n",
       "<table border=\"1\" class=\"dataframe\">\n",
       "  <thead>\n",
       "    <tr style=\"text-align: right;\">\n",
       "      <th></th>\n",
       "      <th>Upper Bound</th>\n",
       "      <th>Lower Bound</th>\n",
       "    </tr>\n",
       "  </thead>\n",
       "  <tbody>\n",
       "    <tr>\n",
       "      <th>Gross Floor Area - Buildings (sq ft)</th>\n",
       "      <td>1.799352e+06</td>\n",
       "      <td>-1.175543e+06</td>\n",
       "    </tr>\n",
       "    <tr>\n",
       "      <th>Electricity Use (kBtu)</th>\n",
       "      <td>1.115630e+08</td>\n",
       "      <td>-8.130419e+07</td>\n",
       "    </tr>\n",
       "    <tr>\n",
       "      <th># of Buildings</th>\n",
       "      <td>1.900747e+01</td>\n",
       "      <td>-1.600903e+01</td>\n",
       "    </tr>\n",
       "    <tr>\n",
       "      <th>Weather Normalized Source EUI (kBtu/sq ft)</th>\n",
       "      <td>1.008518e+03</td>\n",
       "      <td>-6.032695e+02</td>\n",
       "    </tr>\n",
       "  </tbody>\n",
       "</table>\n",
       "</div>"
      ],
      "text/plain": [
       "                                             Upper Bound   Lower Bound\n",
       "Gross Floor Area - Buildings (sq ft)        1.799352e+06 -1.175543e+06\n",
       "Electricity Use (kBtu)                      1.115630e+08 -8.130419e+07\n",
       "# of Buildings                              1.900747e+01 -1.600903e+01\n",
       "Weather Normalized Source EUI (kBtu/sq ft)  1.008518e+03 -6.032695e+02"
      ]
     },
     "execution_count": 21,
     "metadata": {},
     "output_type": "execute_result"
    }
   ],
   "source": [
    "upp_lis = []\n",
    "low_lis = []\n",
    "col = ['Gross Floor Area - Buildings (sq ft)', 'Electricity Use (kBtu)', '# of Buildings', 'Weather Normalized Source EUI (kBtu/sq ft)']\n",
    "\n",
    "for i in col:\n",
    "    upp, low = outlier_detec(df[i])  # Pass df[i] instead of data[i]\n",
    "    upp_lis.append(upp)\n",
    "    low_lis.append(low)\n",
    "\n",
    "d = {'Upper Bound': upp_lis, 'Lower Bound': low_lis}\n",
    "outlier_df = pd.DataFrame(d, index=col)\n",
    "outlier_df"
   ]
  },
  {
   "cell_type": "markdown",
   "id": "b8ec8980",
   "metadata": {},
   "source": [
    "#### Before outlier treatment"
   ]
  },
  {
   "cell_type": "code",
   "execution_count": 22,
   "id": "164e45d1",
   "metadata": {},
   "outputs": [
    {
     "data": {
      "text/html": [
       "<div>\n",
       "<style scoped>\n",
       "    .dataframe tbody tr th:only-of-type {\n",
       "        vertical-align: middle;\n",
       "    }\n",
       "\n",
       "    .dataframe tbody tr th {\n",
       "        vertical-align: top;\n",
       "    }\n",
       "\n",
       "    .dataframe thead th {\n",
       "        text-align: right;\n",
       "    }\n",
       "</style>\n",
       "<table border=\"1\" class=\"dataframe\">\n",
       "  <thead>\n",
       "    <tr style=\"text-align: right;\">\n",
       "      <th></th>\n",
       "      <th>Outlier Count</th>\n",
       "    </tr>\n",
       "  </thead>\n",
       "  <tbody>\n",
       "    <tr>\n",
       "      <th>Gross Floor Area - Buildings (sq ft)</th>\n",
       "      <td>79</td>\n",
       "    </tr>\n",
       "    <tr>\n",
       "      <th>Electricity Use (kBtu)</th>\n",
       "      <td>83</td>\n",
       "    </tr>\n",
       "    <tr>\n",
       "      <th># of Buildings</th>\n",
       "      <td>26</td>\n",
       "    </tr>\n",
       "    <tr>\n",
       "      <th>Weather Normalized Source EUI (kBtu/sq ft)</th>\n",
       "      <td>16</td>\n",
       "    </tr>\n",
       "  </tbody>\n",
       "</table>\n",
       "</div>"
      ],
      "text/plain": [
       "                                            Outlier Count\n",
       "Gross Floor Area - Buildings (sq ft)                   79\n",
       "Electricity Use (kBtu)                                 83\n",
       "# of Buildings                                         26\n",
       "Weather Normalized Source EUI (kBtu/sq ft)             16"
      ]
     },
     "execution_count": 22,
     "metadata": {},
     "output_type": "execute_result"
    }
   ],
   "source": [
    "count_lis = []\n",
    "for i in col:\n",
    "    upp, low = outlier_df.loc[i]\n",
    "    count = sum((df[i] > upp) | (df[i] < low))\n",
    "    count_lis.append(count)\n",
    "\n",
    "d = {'Outlier Count': count_lis}\n",
    "outlier_count_df = pd.DataFrame(d, index=col)\n",
    "outlier_count_df"
   ]
  },
  {
   "cell_type": "code",
   "execution_count": 23,
   "id": "004d51f3",
   "metadata": {},
   "outputs": [],
   "source": [
    "count_lis = []\n",
    "for i in col:\n",
    "    upp, low = outlier_detec(df[i])\n",
    "    df[i] = np.where(df[i] > upp, upp, np.where(df[i] < low, low, df[i]))"
   ]
  },
  {
   "cell_type": "markdown",
   "id": "92e54281",
   "metadata": {},
   "source": [
    "#### After outlier treatment"
   ]
  },
  {
   "cell_type": "code",
   "execution_count": 24,
   "id": "98868ee2",
   "metadata": {},
   "outputs": [
    {
     "data": {
      "text/html": [
       "<div>\n",
       "<style scoped>\n",
       "    .dataframe tbody tr th:only-of-type {\n",
       "        vertical-align: middle;\n",
       "    }\n",
       "\n",
       "    .dataframe tbody tr th {\n",
       "        vertical-align: top;\n",
       "    }\n",
       "\n",
       "    .dataframe thead th {\n",
       "        text-align: right;\n",
       "    }\n",
       "</style>\n",
       "<table border=\"1\" class=\"dataframe\">\n",
       "  <thead>\n",
       "    <tr style=\"text-align: right;\">\n",
       "      <th></th>\n",
       "      <th>Outlier Count</th>\n",
       "    </tr>\n",
       "  </thead>\n",
       "  <tbody>\n",
       "    <tr>\n",
       "      <th>Gross Floor Area - Buildings (sq ft)</th>\n",
       "      <td>0</td>\n",
       "    </tr>\n",
       "    <tr>\n",
       "      <th>Electricity Use (kBtu)</th>\n",
       "      <td>0</td>\n",
       "    </tr>\n",
       "    <tr>\n",
       "      <th># of Buildings</th>\n",
       "      <td>0</td>\n",
       "    </tr>\n",
       "    <tr>\n",
       "      <th>Weather Normalized Source EUI (kBtu/sq ft)</th>\n",
       "      <td>0</td>\n",
       "    </tr>\n",
       "  </tbody>\n",
       "</table>\n",
       "</div>"
      ],
      "text/plain": [
       "                                            Outlier Count\n",
       "Gross Floor Area - Buildings (sq ft)                    0\n",
       "Electricity Use (kBtu)                                  0\n",
       "# of Buildings                                          0\n",
       "Weather Normalized Source EUI (kBtu/sq ft)              0"
      ]
     },
     "execution_count": 24,
     "metadata": {},
     "output_type": "execute_result"
    }
   ],
   "source": [
    "count_lis = []\n",
    "for i in col:\n",
    "    upp, low = outlier_df.loc[i]\n",
    "    count = sum((df[i] > upp) | (df[i] < low))\n",
    "    count_lis.append(count)\n",
    "\n",
    "d = {'Outlier Count': count_lis}\n",
    "outlier_count_df1 = pd.DataFrame(d, index=col)\n",
    "outlier_count_df1"
   ]
  },
  {
   "cell_type": "markdown",
   "id": "e0a815c0",
   "metadata": {},
   "source": [
    "#### Standard scaling"
   ]
  },
  {
   "cell_type": "code",
   "execution_count": 25,
   "id": "4f551b02",
   "metadata": {},
   "outputs": [],
   "source": [
    "from sklearn.preprocessing import StandardScaler\n",
    "\n",
    "columns_to_scale = ['Gross Floor Area - Buildings (sq ft)', 'Electricity Use (kBtu)']\n",
    "scaler = StandardScaler()\n",
    "\n",
    "scaled_columns = scaler.fit_transform(df[columns_to_scale])\n",
    "scaled_columns = np.round(scaled_columns, 2)\n",
    "df[columns_to_scale] = scaled_columns"
   ]
  },
  {
   "cell_type": "code",
   "execution_count": 26,
   "id": "87ad605a",
   "metadata": {},
   "outputs": [
    {
     "data": {
      "text/html": [
       "<div>\n",
       "<style scoped>\n",
       "    .dataframe tbody tr th:only-of-type {\n",
       "        vertical-align: middle;\n",
       "    }\n",
       "\n",
       "    .dataframe tbody tr th {\n",
       "        vertical-align: top;\n",
       "    }\n",
       "\n",
       "    .dataframe thead th {\n",
       "        text-align: right;\n",
       "    }\n",
       "</style>\n",
       "<table border=\"1\" class=\"dataframe\">\n",
       "  <thead>\n",
       "    <tr style=\"text-align: right;\">\n",
       "      <th></th>\n",
       "      <th>Gross Floor Area - Buildings (sq ft)</th>\n",
       "      <th>Electricity Use (kBtu)</th>\n",
       "      <th># of Buildings</th>\n",
       "      <th>Weather Normalized Source EUI (kBtu/sq ft)</th>\n",
       "    </tr>\n",
       "  </thead>\n",
       "  <tbody>\n",
       "    <tr>\n",
       "      <th>0</th>\n",
       "      <td>0.08</td>\n",
       "      <td>-0.31</td>\n",
       "      <td>1.0</td>\n",
       "      <td>122.0</td>\n",
       "    </tr>\n",
       "    <tr>\n",
       "      <th>1</th>\n",
       "      <td>0.44</td>\n",
       "      <td>1.00</td>\n",
       "      <td>1.0</td>\n",
       "      <td>261.0</td>\n",
       "    </tr>\n",
       "    <tr>\n",
       "      <th>2</th>\n",
       "      <td>4.24</td>\n",
       "      <td>4.44</td>\n",
       "      <td>8.0</td>\n",
       "      <td>200.0</td>\n",
       "    </tr>\n",
       "    <tr>\n",
       "      <th>3</th>\n",
       "      <td>-0.12</td>\n",
       "      <td>-0.35</td>\n",
       "      <td>1.0</td>\n",
       "      <td>135.0</td>\n",
       "    </tr>\n",
       "    <tr>\n",
       "      <th>4</th>\n",
       "      <td>0.09</td>\n",
       "      <td>-0.25</td>\n",
       "      <td>1.0</td>\n",
       "      <td>136.0</td>\n",
       "    </tr>\n",
       "  </tbody>\n",
       "</table>\n",
       "</div>"
      ],
      "text/plain": [
       "   Gross Floor Area - Buildings (sq ft)  Electricity Use (kBtu)  \\\n",
       "0                                  0.08                   -0.31   \n",
       "1                                  0.44                    1.00   \n",
       "2                                  4.24                    4.44   \n",
       "3                                 -0.12                   -0.35   \n",
       "4                                  0.09                   -0.25   \n",
       "\n",
       "   # of Buildings  Weather Normalized Source EUI (kBtu/sq ft)  \n",
       "0             1.0                                       122.0  \n",
       "1             1.0                                       261.0  \n",
       "2             8.0                                       200.0  \n",
       "3             1.0                                       135.0  \n",
       "4             1.0                                       136.0  "
      ]
     },
     "execution_count": 26,
     "metadata": {},
     "output_type": "execute_result"
    }
   ],
   "source": [
    "df.head()"
   ]
  },
  {
   "cell_type": "code",
   "execution_count": 27,
   "id": "9a0d627e",
   "metadata": {},
   "outputs": [
    {
     "data": {
      "image/png": "[encoded data removed]",
      "text/plain": [
       "<Figure size 576x432 with 1 Axes>"
      ]
     },
     "metadata": {
      "needs_background": "light"
     },
     "output_type": "display_data"
    }
   ],
   "source": [
    "plt.figure(figsize=(8, 6))\n",
    "plt.scatter(df['Gross Floor Area - Buildings (sq ft)'], df['Electricity Use (kBtu)'], color='red')\n",
    "plt.title(\"Correlation between Gross Floor Area and Electricity Use\")\n",
    "plt.xlabel(\"Gross Floor Area - Buildings (sq ft)\")\n",
    "plt.ylabel(\"Electricity Use (kBtu)\")\n",
    "plt.show()"
   ]
  },
  {
   "cell_type": "markdown",
   "id": "568d4e8a",
   "metadata": {},
   "source": [
    "### Train-test splitting"
   ]
  },
  {
   "cell_type": "code",
   "execution_count": 28,
   "id": "4900aed3",
   "metadata": {},
   "outputs": [],
   "source": [
    "from sklearn.model_selection import train_test_split\n",
    "X = df[['Gross Floor Area - Buildings (sq ft)', '# of Buildings', 'Weather Normalized Source EUI (kBtu/sq ft)']]\n",
    "y = df['Electricity Use (kBtu)']\n",
    "\n",
    "# shape of trainig and testing data\n",
    "X_train, X_test, y_train, y_test = train_test_split(X, y, test_size=0.2, random_state=42)"
   ]
  },
  {
   "cell_type": "markdown",
   "id": "898e7117",
   "metadata": {},
   "source": [
    "## Model Building & Evaluation"
   ]
  },
  {
   "cell_type": "code",
   "execution_count": 29,
   "id": "27e4c7bf",
   "metadata": {},
   "outputs": [],
   "source": [
    "from sklearn.linear_model import LinearRegression\n",
    "from sklearn.tree import DecisionTreeRegressor\n",
    "from sklearn.ensemble import RandomForestRegressor\n",
    "from sklearn.svm import SVR\n",
    "from sklearn.linear_model import Lasso, Ridge\n",
    "from sklearn.metrics import mean_absolute_error, mean_squared_error, r2_score"
   ]
  },
  {
   "cell_type": "code",
   "execution_count": 30,
   "id": "d45c51df",
   "metadata": {},
   "outputs": [
    {
     "data": {
      "text/html": [
       "<style>#sk-container-id-1 {color: black;}#sk-container-id-1 pre{padding: 0;}#sk-container-id-1 div.sk-toggleable {background-color: white;}#sk-container-id-1 label.sk-toggleable__label {cursor: pointer;display: block;width: 100%;margin-bottom: 0;padding: 0.3em;box-sizing: border-box;text-align: center;}#sk-container-id-1 label.sk-toggleable__label-arrow:before {content: \"▸\";float: left;margin-right: 0.25em;color: #696969;}#sk-container-id-1 label.sk-toggleable__label-arrow:hover:before {color: black;}#sk-container-id-1 div.sk-estimator:hover label.sk-toggleable__label-arrow:before {color: black;}#sk-container-id-1 div.sk-toggleable__content {max-height: 0;max-width: 0;overflow: hidden;text-align: left;background-color: #f0f8ff;}#sk-container-id-1 div.sk-toggleable__content pre {margin: 0.2em;color: black;border-radius: 0.25em;background-color: #f0f8ff;}#sk-container-id-1 input.sk-toggleable__control:checked~div.sk-toggleable__content {max-height: 200px;max-width: 100%;overflow: auto;}#sk-container-id-1 input.sk-toggleable__control:checked~label.sk-toggleable__label-arrow:before {content: \"▾\";}#sk-container-id-1 div.sk-estimator input.sk-toggleable__control:checked~label.sk-toggleable__label {background-color: #d4ebff;}#sk-container-id-1 div.sk-label input.sk-toggleable__control:checked~label.sk-toggleable__label {background-color: #d4ebff;}#sk-container-id-1 input.sk-hidden--visually {border: 0;clip: rect(1px 1px 1px 1px);clip: rect(1px, 1px, 1px, 1px);height: 1px;margin: -1px;overflow: hidden;padding: 0;position: absolute;width: 1px;}#sk-container-id-1 div.sk-estimator {font-family: monospace;background-color: #f0f8ff;border: 1px dotted black;border-radius: 0.25em;box-sizing: border-box;margin-bottom: 0.5em;}#sk-container-id-1 div.sk-estimator:hover {background-color: #d4ebff;}#sk-container-id-1 div.sk-parallel-item::after {content: \"\";width: 100%;border-bottom: 1px solid gray;flex-grow: 1;}#sk-container-id-1 div.sk-label:hover label.sk-toggleable__label {background-color: #d4ebff;}#sk-container-id-1 div.sk-serial::before {content: \"\";position: absolute;border-left: 1px solid gray;box-sizing: border-box;top: 0;bottom: 0;left: 50%;z-index: 0;}#sk-container-id-1 div.sk-serial {display: flex;flex-direction: column;align-items: center;background-color: white;padding-right: 0.2em;padding-left: 0.2em;position: relative;}#sk-container-id-1 div.sk-item {position: relative;z-index: 1;}#sk-container-id-1 div.sk-parallel {display: flex;align-items: stretch;justify-content: center;background-color: white;position: relative;}#sk-container-id-1 div.sk-item::before, #sk-container-id-1 div.sk-parallel-item::before {content: \"\";position: absolute;border-left: 1px solid gray;box-sizing: border-box;top: 0;bottom: 0;left: 50%;z-index: -1;}#sk-container-id-1 div.sk-parallel-item {display: flex;flex-direction: column;z-index: 1;position: relative;background-color: white;}#sk-container-id-1 div.sk-parallel-item:first-child::after {align-self: flex-end;width: 50%;}#sk-container-id-1 div.sk-parallel-item:last-child::after {align-self: flex-start;width: 50%;}#sk-container-id-1 div.sk-parallel-item:only-child::after {width: 0;}#sk-container-id-1 div.sk-dashed-wrapped {border: 1px dashed gray;margin: 0 0.4em 0.5em 0.4em;box-sizing: border-box;padding-bottom: 0.4em;background-color: white;}#sk-container-id-1 div.sk-label label {font-family: monospace;font-weight: bold;display: inline-block;line-height: 1.2em;}#sk-container-id-1 div.sk-label-container {text-align: center;}#sk-container-id-1 div.sk-container {/* jupyter's `normalize.less` sets `[hidden] { display: none; }` but bootstrap.min.css set `[hidden] { display: none !important; }` so we also need the `!important` here to be able to override the default hidden behavior on the sphinx rendered scikit-learn.org. See: https://github.com/scikit-learn/scikit-learn/issues/21755 */display: inline-block !important;position: relative;}#sk-container-id-1 div.sk-text-repr-fallback {display: none;}</style><div id=\"sk-container-id-1\" class=\"sk-top-container\"><div class=\"sk-text-repr-fallback\"><pre>LinearRegression()</pre><b>In a Jupyter environment, please rerun this cell to show the HTML representation or trust the notebook. <br />On GitHub, the HTML representation is unable to render, please try loading this page with nbviewer.org.</b></div><div class=\"sk-container\" hidden><div class=\"sk-item\"><div class=\"sk-estimator sk-toggleable\"><input class=\"sk-toggleable__control sk-hidden--visually\" id=\"sk-estimator-id-1\" type=\"checkbox\" checked><label for=\"sk-estimator-id-1\" class=\"sk-toggleable__label sk-toggleable__label-arrow\">LinearRegression</label><div class=\"sk-toggleable__content\"><pre>LinearRegression()</pre></div></div></div></div></div>"
      ],
      "text/plain": [
       "LinearRegression()"
      ]
     },
     "execution_count": 30,
     "metadata": {},
     "output_type": "execute_result"
    }
   ],
   "source": [
    "# Linear Regression model\n",
    "linear_model = LinearRegression()\n",
    "linear_model.fit(X_train,y_train)"
   ]
  },
  {
   "cell_type": "code",
   "execution_count": 31,
   "id": "622157b2",
   "metadata": {},
   "outputs": [
    {
     "name": "stdout",
     "output_type": "stream",
     "text": [
      "0.2278099262403703\n",
      "0.16485096384692308\n",
      "0.8471681647244298\n"
     ]
    }
   ],
   "source": [
    "linear_preds = linear_model.predict(X_test)\n",
    "linear_mae = mean_absolute_error(y_test,linear_preds)\n",
    "linear_mse = mean_squared_error(y_test,linear_preds)\n",
    "linear_r2 = r2_score(y_test,linear_preds)\n",
    "\n",
    "print(linear_mae)\n",
    "print(linear_mse)\n",
    "print(linear_r2)"
   ]
  },
  {
   "cell_type": "code",
   "execution_count": 32,
   "id": "a3bcfc88",
   "metadata": {},
   "outputs": [
    {
     "data": {
      "text/html": [
       "<style>#sk-container-id-2 {color: black;}#sk-container-id-2 pre{padding: 0;}#sk-container-id-2 div.sk-toggleable {background-color: white;}#sk-container-id-2 label.sk-toggleable__label {cursor: pointer;display: block;width: 100%;margin-bottom: 0;padding: 0.3em;box-sizing: border-box;text-align: center;}#sk-container-id-2 label.sk-toggleable__label-arrow:before {content: \"▸\";float: left;margin-right: 0.25em;color: #696969;}#sk-container-id-2 label.sk-toggleable__label-arrow:hover:before {color: black;}#sk-container-id-2 div.sk-estimator:hover label.sk-toggleable__label-arrow:before {color: black;}#sk-container-id-2 div.sk-toggleable__content {max-height: 0;max-width: 0;overflow: hidden;text-align: left;background-color: #f0f8ff;}#sk-container-id-2 div.sk-toggleable__content pre {margin: 0.2em;color: black;border-radius: 0.25em;background-color: #f0f8ff;}#sk-container-id-2 input.sk-toggleable__control:checked~div.sk-toggleable__content {max-height: 200px;max-width: 100%;overflow: auto;}#sk-container-id-2 input.sk-toggleable__control:checked~label.sk-toggleable__label-arrow:before {content: \"▾\";}#sk-container-id-2 div.sk-estimator input.sk-toggleable__control:checked~label.sk-toggleable__label {background-color: #d4ebff;}#sk-container-id-2 div.sk-label input.sk-toggleable__control:checked~label.sk-toggleable__label {background-color: #d4ebff;}#sk-container-id-2 input.sk-hidden--visually {border: 0;clip: rect(1px 1px 1px 1px);clip: rect(1px, 1px, 1px, 1px);height: 1px;margin: -1px;overflow: hidden;padding: 0;position: absolute;width: 1px;}#sk-container-id-2 div.sk-estimator {font-family: monospace;background-color: #f0f8ff;border: 1px dotted black;border-radius: 0.25em;box-sizing: border-box;margin-bottom: 0.5em;}#sk-container-id-2 div.sk-estimator:hover {background-color: #d4ebff;}#sk-container-id-2 div.sk-parallel-item::after {content: \"\";width: 100%;border-bottom: 1px solid gray;flex-grow: 1;}#sk-container-id-2 div.sk-label:hover label.sk-toggleable__label {background-color: #d4ebff;}#sk-container-id-2 div.sk-serial::before {content: \"\";position: absolute;border-left: 1px solid gray;box-sizing: border-box;top: 0;bottom: 0;left: 50%;z-index: 0;}#sk-container-id-2 div.sk-serial {display: flex;flex-direction: column;align-items: center;background-color: white;padding-right: 0.2em;padding-left: 0.2em;position: relative;}#sk-container-id-2 div.sk-item {position: relative;z-index: 1;}#sk-container-id-2 div.sk-parallel {display: flex;align-items: stretch;justify-content: center;background-color: white;position: relative;}#sk-container-id-2 div.sk-item::before, #sk-container-id-2 div.sk-parallel-item::before {content: \"\";position: absolute;border-left: 1px solid gray;box-sizing: border-box;top: 0;bottom: 0;left: 50%;z-index: -1;}#sk-container-id-2 div.sk-parallel-item {display: flex;flex-direction: column;z-index: 1;position: relative;background-color: white;}#sk-container-id-2 div.sk-parallel-item:first-child::after {align-self: flex-end;width: 50%;}#sk-container-id-2 div.sk-parallel-item:last-child::after {align-self: flex-start;width: 50%;}#sk-container-id-2 div.sk-parallel-item:only-child::after {width: 0;}#sk-container-id-2 div.sk-dashed-wrapped {border: 1px dashed gray;margin: 0 0.4em 0.5em 0.4em;box-sizing: border-box;padding-bottom: 0.4em;background-color: white;}#sk-container-id-2 div.sk-label label {font-family: monospace;font-weight: bold;display: inline-block;line-height: 1.2em;}#sk-container-id-2 div.sk-label-container {text-align: center;}#sk-container-id-2 div.sk-container {/* jupyter's `normalize.less` sets `[hidden] { display: none; }` but bootstrap.min.css set `[hidden] { display: none !important; }` so we also need the `!important` here to be able to override the default hidden behavior on the sphinx rendered scikit-learn.org. See: https://github.com/scikit-learn/scikit-learn/issues/21755 */display: inline-block !important;position: relative;}#sk-container-id-2 div.sk-text-repr-fallback {display: none;}</style><div id=\"sk-container-id-2\" class=\"sk-top-container\"><div class=\"sk-text-repr-fallback\"><pre>DecisionTreeRegressor()</pre><b>In a Jupyter environment, please rerun this cell to show the HTML representation or trust the notebook. <br />On GitHub, the HTML representation is unable to render, please try loading this page with nbviewer.org.</b></div><div class=\"sk-container\" hidden><div class=\"sk-item\"><div class=\"sk-estimator sk-toggleable\"><input class=\"sk-toggleable__control sk-hidden--visually\" id=\"sk-estimator-id-2\" type=\"checkbox\" checked><label for=\"sk-estimator-id-2\" class=\"sk-toggleable__label sk-toggleable__label-arrow\">DecisionTreeRegressor</label><div class=\"sk-toggleable__content\"><pre>DecisionTreeRegressor()</pre></div></div></div></div></div>"
      ],
      "text/plain": [
       "DecisionTreeRegressor()"
      ]
     },
     "execution_count": 32,
     "metadata": {},
     "output_type": "execute_result"
    }
   ],
   "source": [
    "# Decision Tree Regressor\n",
    "tree_model = DecisionTreeRegressor()\n",
    "tree_model.fit(X_train,y_train)"
   ]
  },
  {
   "cell_type": "code",
   "execution_count": 33,
   "id": "fc119910",
   "metadata": {},
   "outputs": [
    {
     "name": "stdout",
     "output_type": "stream",
     "text": [
      "0.11591369379412861\n",
      "0.06078809476805402\n",
      "0.9436439079911367\n"
     ]
    }
   ],
   "source": [
    "decision_preds = tree_model.predict(X_test)\n",
    "decision_mae = mean_absolute_error(y_test,decision_preds)\n",
    "decision_mse = mean_squared_error(y_test,decision_preds)\n",
    "decision_r2 = r2_score(y_test,decision_preds)\n",
    "\n",
    "print(decision_mae)\n",
    "print(decision_mse)\n",
    "print(decision_r2)"
   ]
  },
  {
   "cell_type": "code",
   "execution_count": 34,
   "id": "8d6128de",
   "metadata": {},
   "outputs": [
    {
     "data": {
      "text/html": [
       "<style>#sk-container-id-3 {color: black;}#sk-container-id-3 pre{padding: 0;}#sk-container-id-3 div.sk-toggleable {background-color: white;}#sk-container-id-3 label.sk-toggleable__label {cursor: pointer;display: block;width: 100%;margin-bottom: 0;padding: 0.3em;box-sizing: border-box;text-align: center;}#sk-container-id-3 label.sk-toggleable__label-arrow:before {content: \"▸\";float: left;margin-right: 0.25em;color: #696969;}#sk-container-id-3 label.sk-toggleable__label-arrow:hover:before {color: black;}#sk-container-id-3 div.sk-estimator:hover label.sk-toggleable__label-arrow:before {color: black;}#sk-container-id-3 div.sk-toggleable__content {max-height: 0;max-width: 0;overflow: hidden;text-align: left;background-color: #f0f8ff;}#sk-container-id-3 div.sk-toggleable__content pre {margin: 0.2em;color: black;border-radius: 0.25em;background-color: #f0f8ff;}#sk-container-id-3 input.sk-toggleable__control:checked~div.sk-toggleable__content {max-height: 200px;max-width: 100%;overflow: auto;}#sk-container-id-3 input.sk-toggleable__control:checked~label.sk-toggleable__label-arrow:before {content: \"▾\";}#sk-container-id-3 div.sk-estimator input.sk-toggleable__control:checked~label.sk-toggleable__label {background-color: #d4ebff;}#sk-container-id-3 div.sk-label input.sk-toggleable__control:checked~label.sk-toggleable__label {background-color: #d4ebff;}#sk-container-id-3 input.sk-hidden--visually {border: 0;clip: rect(1px 1px 1px 1px);clip: rect(1px, 1px, 1px, 1px);height: 1px;margin: -1px;overflow: hidden;padding: 0;position: absolute;width: 1px;}#sk-container-id-3 div.sk-estimator {font-family: monospace;background-color: #f0f8ff;border: 1px dotted black;border-radius: 0.25em;box-sizing: border-box;margin-bottom: 0.5em;}#sk-container-id-3 div.sk-estimator:hover {background-color: #d4ebff;}#sk-container-id-3 div.sk-parallel-item::after {content: \"\";width: 100%;border-bottom: 1px solid gray;flex-grow: 1;}#sk-container-id-3 div.sk-label:hover label.sk-toggleable__label {background-color: #d4ebff;}#sk-container-id-3 div.sk-serial::before {content: \"\";position: absolute;border-left: 1px solid gray;box-sizing: border-box;top: 0;bottom: 0;left: 50%;z-index: 0;}#sk-container-id-3 div.sk-serial {display: flex;flex-direction: column;align-items: center;background-color: white;padding-right: 0.2em;padding-left: 0.2em;position: relative;}#sk-container-id-3 div.sk-item {position: relative;z-index: 1;}#sk-container-id-3 div.sk-parallel {display: flex;align-items: stretch;justify-content: center;background-color: white;position: relative;}#sk-container-id-3 div.sk-item::before, #sk-container-id-3 div.sk-parallel-item::before {content: \"\";position: absolute;border-left: 1px solid gray;box-sizing: border-box;top: 0;bottom: 0;left: 50%;z-index: -1;}#sk-container-id-3 div.sk-parallel-item {display: flex;flex-direction: column;z-index: 1;position: relative;background-color: white;}#sk-container-id-3 div.sk-parallel-item:first-child::after {align-self: flex-end;width: 50%;}#sk-container-id-3 div.sk-parallel-item:last-child::after {align-self: flex-start;width: 50%;}#sk-container-id-3 div.sk-parallel-item:only-child::after {width: 0;}#sk-container-id-3 div.sk-dashed-wrapped {border: 1px dashed gray;margin: 0 0.4em 0.5em 0.4em;box-sizing: border-box;padding-bottom: 0.4em;background-color: white;}#sk-container-id-3 div.sk-label label {font-family: monospace;font-weight: bold;display: inline-block;line-height: 1.2em;}#sk-container-id-3 div.sk-label-container {text-align: center;}#sk-container-id-3 div.sk-container {/* jupyter's `normalize.less` sets `[hidden] { display: none; }` but bootstrap.min.css set `[hidden] { display: none !important; }` so we also need the `!important` here to be able to override the default hidden behavior on the sphinx rendered scikit-learn.org. See: https://github.com/scikit-learn/scikit-learn/issues/21755 */display: inline-block !important;position: relative;}#sk-container-id-3 div.sk-text-repr-fallback {display: none;}</style><div id=\"sk-container-id-3\" class=\"sk-top-container\"><div class=\"sk-text-repr-fallback\"><pre>RandomForestRegressor()</pre><b>In a Jupyter environment, please rerun this cell to show the HTML representation or trust the notebook. <br />On GitHub, the HTML representation is unable to render, please try loading this page with nbviewer.org.</b></div><div class=\"sk-container\" hidden><div class=\"sk-item\"><div class=\"sk-estimator sk-toggleable\"><input class=\"sk-toggleable__control sk-hidden--visually\" id=\"sk-estimator-id-3\" type=\"checkbox\" checked><label for=\"sk-estimator-id-3\" class=\"sk-toggleable__label sk-toggleable__label-arrow\">RandomForestRegressor</label><div class=\"sk-toggleable__content\"><pre>RandomForestRegressor()</pre></div></div></div></div></div>"
      ],
      "text/plain": [
       "RandomForestRegressor()"
      ]
     },
     "execution_count": 34,
     "metadata": {},
     "output_type": "execute_result"
    }
   ],
   "source": [
    "# Random Forest Regressor\n",
    "rf_model = RandomForestRegressor()\n",
    "rf_model.fit(X_train,y_train)"
   ]
  },
  {
   "cell_type": "code",
   "execution_count": 35,
   "id": "c14bf115",
   "metadata": {},
   "outputs": [
    {
     "name": "stdout",
     "output_type": "stream",
     "text": [
      "0.1085955173054844\n",
      "0.051172046339749123\n",
      "0.9525588593817836\n"
     ]
    }
   ],
   "source": [
    "rf_preds = rf_model.predict(X_test)\n",
    "rf_mae = mean_absolute_error(y_test,rf_preds)\n",
    "rf_mse = mean_squared_error(y_test,rf_preds)\n",
    "rf_r2 = r2_score(y_test,rf_preds)\n",
    "\n",
    "print(rf_mae)\n",
    "print(rf_mse)\n",
    "print(rf_r2)"
   ]
  },
  {
   "cell_type": "code",
   "execution_count": 36,
   "id": "17d861fe",
   "metadata": {},
   "outputs": [
    {
     "data": {
      "text/html": [
       "<style>#sk-container-id-4 {color: black;}#sk-container-id-4 pre{padding: 0;}#sk-container-id-4 div.sk-toggleable {background-color: white;}#sk-container-id-4 label.sk-toggleable__label {cursor: pointer;display: block;width: 100%;margin-bottom: 0;padding: 0.3em;box-sizing: border-box;text-align: center;}#sk-container-id-4 label.sk-toggleable__label-arrow:before {content: \"▸\";float: left;margin-right: 0.25em;color: #696969;}#sk-container-id-4 label.sk-toggleable__label-arrow:hover:before {color: black;}#sk-container-id-4 div.sk-estimator:hover label.sk-toggleable__label-arrow:before {color: black;}#sk-container-id-4 div.sk-toggleable__content {max-height: 0;max-width: 0;overflow: hidden;text-align: left;background-color: #f0f8ff;}#sk-container-id-4 div.sk-toggleable__content pre {margin: 0.2em;color: black;border-radius: 0.25em;background-color: #f0f8ff;}#sk-container-id-4 input.sk-toggleable__control:checked~div.sk-toggleable__content {max-height: 200px;max-width: 100%;overflow: auto;}#sk-container-id-4 input.sk-toggleable__control:checked~label.sk-toggleable__label-arrow:before {content: \"▾\";}#sk-container-id-4 div.sk-estimator input.sk-toggleable__control:checked~label.sk-toggleable__label {background-color: #d4ebff;}#sk-container-id-4 div.sk-label input.sk-toggleable__control:checked~label.sk-toggleable__label {background-color: #d4ebff;}#sk-container-id-4 input.sk-hidden--visually {border: 0;clip: rect(1px 1px 1px 1px);clip: rect(1px, 1px, 1px, 1px);height: 1px;margin: -1px;overflow: hidden;padding: 0;position: absolute;width: 1px;}#sk-container-id-4 div.sk-estimator {font-family: monospace;background-color: #f0f8ff;border: 1px dotted black;border-radius: 0.25em;box-sizing: border-box;margin-bottom: 0.5em;}#sk-container-id-4 div.sk-estimator:hover {background-color: #d4ebff;}#sk-container-id-4 div.sk-parallel-item::after {content: \"\";width: 100%;border-bottom: 1px solid gray;flex-grow: 1;}#sk-container-id-4 div.sk-label:hover label.sk-toggleable__label {background-color: #d4ebff;}#sk-container-id-4 div.sk-serial::before {content: \"\";position: absolute;border-left: 1px solid gray;box-sizing: border-box;top: 0;bottom: 0;left: 50%;z-index: 0;}#sk-container-id-4 div.sk-serial {display: flex;flex-direction: column;align-items: center;background-color: white;padding-right: 0.2em;padding-left: 0.2em;position: relative;}#sk-container-id-4 div.sk-item {position: relative;z-index: 1;}#sk-container-id-4 div.sk-parallel {display: flex;align-items: stretch;justify-content: center;background-color: white;position: relative;}#sk-container-id-4 div.sk-item::before, #sk-container-id-4 div.sk-parallel-item::before {content: \"\";position: absolute;border-left: 1px solid gray;box-sizing: border-box;top: 0;bottom: 0;left: 50%;z-index: -1;}#sk-container-id-4 div.sk-parallel-item {display: flex;flex-direction: column;z-index: 1;position: relative;background-color: white;}#sk-container-id-4 div.sk-parallel-item:first-child::after {align-self: flex-end;width: 50%;}#sk-container-id-4 div.sk-parallel-item:last-child::after {align-self: flex-start;width: 50%;}#sk-container-id-4 div.sk-parallel-item:only-child::after {width: 0;}#sk-container-id-4 div.sk-dashed-wrapped {border: 1px dashed gray;margin: 0 0.4em 0.5em 0.4em;box-sizing: border-box;padding-bottom: 0.4em;background-color: white;}#sk-container-id-4 div.sk-label label {font-family: monospace;font-weight: bold;display: inline-block;line-height: 1.2em;}#sk-container-id-4 div.sk-label-container {text-align: center;}#sk-container-id-4 div.sk-container {/* jupyter's `normalize.less` sets `[hidden] { display: none; }` but bootstrap.min.css set `[hidden] { display: none !important; }` so we also need the `!important` here to be able to override the default hidden behavior on the sphinx rendered scikit-learn.org. See: https://github.com/scikit-learn/scikit-learn/issues/21755 */display: inline-block !important;position: relative;}#sk-container-id-4 div.sk-text-repr-fallback {display: none;}</style><div id=\"sk-container-id-4\" class=\"sk-top-container\"><div class=\"sk-text-repr-fallback\"><pre>SVR()</pre><b>In a Jupyter environment, please rerun this cell to show the HTML representation or trust the notebook. <br />On GitHub, the HTML representation is unable to render, please try loading this page with nbviewer.org.</b></div><div class=\"sk-container\" hidden><div class=\"sk-item\"><div class=\"sk-estimator sk-toggleable\"><input class=\"sk-toggleable__control sk-hidden--visually\" id=\"sk-estimator-id-4\" type=\"checkbox\" checked><label for=\"sk-estimator-id-4\" class=\"sk-toggleable__label sk-toggleable__label-arrow\">SVR</label><div class=\"sk-toggleable__content\"><pre>SVR()</pre></div></div></div></div></div>"
      ],
      "text/plain": [
       "SVR()"
      ]
     },
     "execution_count": 36,
     "metadata": {},
     "output_type": "execute_result"
    }
   ],
   "source": [
    "# SVM\n",
    "svr_model = SVR()\n",
    "svr_model.fit(X_train,y_train)"
   ]
  },
  {
   "cell_type": "code",
   "execution_count": 37,
   "id": "97cbfe7b",
   "metadata": {},
   "outputs": [
    {
     "name": "stdout",
     "output_type": "stream",
     "text": [
      "0.4405285317354824\n",
      "0.9268924488367336\n",
      "0.14068640696376744\n"
     ]
    }
   ],
   "source": [
    "svr_preds = svr_model.predict(X_test)\n",
    "svr_mae = mean_absolute_error(y_test,svr_preds)\n",
    "svr_mse = mean_squared_error(y_test,svr_preds)\n",
    "svr_r2 = r2_score(y_test,svr_preds)\n",
    "\n",
    "print(svr_mae)\n",
    "print(svr_mse)\n",
    "print(svr_r2)"
   ]
  },
  {
   "cell_type": "code",
   "execution_count": 38,
   "id": "1e52559f",
   "metadata": {},
   "outputs": [
    {
     "data": {
      "text/html": [
       "<style>#sk-container-id-5 {color: black;}#sk-container-id-5 pre{padding: 0;}#sk-container-id-5 div.sk-toggleable {background-color: white;}#sk-container-id-5 label.sk-toggleable__label {cursor: pointer;display: block;width: 100%;margin-bottom: 0;padding: 0.3em;box-sizing: border-box;text-align: center;}#sk-container-id-5 label.sk-toggleable__label-arrow:before {content: \"▸\";float: left;margin-right: 0.25em;color: #696969;}#sk-container-id-5 label.sk-toggleable__label-arrow:hover:before {color: black;}#sk-container-id-5 div.sk-estimator:hover label.sk-toggleable__label-arrow:before {color: black;}#sk-container-id-5 div.sk-toggleable__content {max-height: 0;max-width: 0;overflow: hidden;text-align: left;background-color: #f0f8ff;}#sk-container-id-5 div.sk-toggleable__content pre {margin: 0.2em;color: black;border-radius: 0.25em;background-color: #f0f8ff;}#sk-container-id-5 input.sk-toggleable__control:checked~div.sk-toggleable__content {max-height: 200px;max-width: 100%;overflow: auto;}#sk-container-id-5 input.sk-toggleable__control:checked~label.sk-toggleable__label-arrow:before {content: \"▾\";}#sk-container-id-5 div.sk-estimator input.sk-toggleable__control:checked~label.sk-toggleable__label {background-color: #d4ebff;}#sk-container-id-5 div.sk-label input.sk-toggleable__control:checked~label.sk-toggleable__label {background-color: #d4ebff;}#sk-container-id-5 input.sk-hidden--visually {border: 0;clip: rect(1px 1px 1px 1px);clip: rect(1px, 1px, 1px, 1px);height: 1px;margin: -1px;overflow: hidden;padding: 0;position: absolute;width: 1px;}#sk-container-id-5 div.sk-estimator {font-family: monospace;background-color: #f0f8ff;border: 1px dotted black;border-radius: 0.25em;box-sizing: border-box;margin-bottom: 0.5em;}#sk-container-id-5 div.sk-estimator:hover {background-color: #d4ebff;}#sk-container-id-5 div.sk-parallel-item::after {content: \"\";width: 100%;border-bottom: 1px solid gray;flex-grow: 1;}#sk-container-id-5 div.sk-label:hover label.sk-toggleable__label {background-color: #d4ebff;}#sk-container-id-5 div.sk-serial::before {content: \"\";position: absolute;border-left: 1px solid gray;box-sizing: border-box;top: 0;bottom: 0;left: 50%;z-index: 0;}#sk-container-id-5 div.sk-serial {display: flex;flex-direction: column;align-items: center;background-color: white;padding-right: 0.2em;padding-left: 0.2em;position: relative;}#sk-container-id-5 div.sk-item {position: relative;z-index: 1;}#sk-container-id-5 div.sk-parallel {display: flex;align-items: stretch;justify-content: center;background-color: white;position: relative;}#sk-container-id-5 div.sk-item::before, #sk-container-id-5 div.sk-parallel-item::before {content: \"\";position: absolute;border-left: 1px solid gray;box-sizing: border-box;top: 0;bottom: 0;left: 50%;z-index: -1;}#sk-container-id-5 div.sk-parallel-item {display: flex;flex-direction: column;z-index: 1;position: relative;background-color: white;}#sk-container-id-5 div.sk-parallel-item:first-child::after {align-self: flex-end;width: 50%;}#sk-container-id-5 div.sk-parallel-item:last-child::after {align-self: flex-start;width: 50%;}#sk-container-id-5 div.sk-parallel-item:only-child::after {width: 0;}#sk-container-id-5 div.sk-dashed-wrapped {border: 1px dashed gray;margin: 0 0.4em 0.5em 0.4em;box-sizing: border-box;padding-bottom: 0.4em;background-color: white;}#sk-container-id-5 div.sk-label label {font-family: monospace;font-weight: bold;display: inline-block;line-height: 1.2em;}#sk-container-id-5 div.sk-label-container {text-align: center;}#sk-container-id-5 div.sk-container {/* jupyter's `normalize.less` sets `[hidden] { display: none; }` but bootstrap.min.css set `[hidden] { display: none !important; }` so we also need the `!important` here to be able to override the default hidden behavior on the sphinx rendered scikit-learn.org. See: https://github.com/scikit-learn/scikit-learn/issues/21755 */display: inline-block !important;position: relative;}#sk-container-id-5 div.sk-text-repr-fallback {display: none;}</style><div id=\"sk-container-id-5\" class=\"sk-top-container\"><div class=\"sk-text-repr-fallback\"><pre>Lasso(alpha=0.01)</pre><b>In a Jupyter environment, please rerun this cell to show the HTML representation or trust the notebook. <br />On GitHub, the HTML representation is unable to render, please try loading this page with nbviewer.org.</b></div><div class=\"sk-container\" hidden><div class=\"sk-item\"><div class=\"sk-estimator sk-toggleable\"><input class=\"sk-toggleable__control sk-hidden--visually\" id=\"sk-estimator-id-5\" type=\"checkbox\" checked><label for=\"sk-estimator-id-5\" class=\"sk-toggleable__label sk-toggleable__label-arrow\">Lasso</label><div class=\"sk-toggleable__content\"><pre>Lasso(alpha=0.01)</pre></div></div></div></div></div>"
      ],
      "text/plain": [
       "Lasso(alpha=0.01)"
      ]
     },
     "execution_count": 38,
     "metadata": {},
     "output_type": "execute_result"
    }
   ],
   "source": [
    "# Lasso Regression\n",
    "lasso_model = Lasso(alpha=0.01)\n",
    "lasso_model.fit(X_train,y_train)"
   ]
  },
  {
   "cell_type": "code",
   "execution_count": 39,
   "id": "e25ace23",
   "metadata": {},
   "outputs": [
    {
     "name": "stdout",
     "output_type": "stream",
     "text": [
      "0.22670110636557897\n",
      "0.16521344820243047\n",
      "0.8468321087620132\n"
     ]
    }
   ],
   "source": [
    "lasso_preds = lasso_model.predict(X_test)\n",
    "lasso_mae = mean_absolute_error(y_test,lasso_preds)\n",
    "lasso_mse = mean_squared_error(y_test,lasso_preds)\n",
    "lasso_r2 = r2_score(y_test,lasso_preds)\n",
    "\n",
    "print(lasso_mae)\n",
    "print(lasso_mse)\n",
    "print(lasso_r2)"
   ]
  },
  {
   "cell_type": "code",
   "execution_count": 40,
   "id": "952f98e5",
   "metadata": {
    "scrolled": true
   },
   "outputs": [
    {
     "data": {
      "text/html": [
       "<style>#sk-container-id-6 {color: black;}#sk-container-id-6 pre{padding: 0;}#sk-container-id-6 div.sk-toggleable {background-color: white;}#sk-container-id-6 label.sk-toggleable__label {cursor: pointer;display: block;width: 100%;margin-bottom: 0;padding: 0.3em;box-sizing: border-box;text-align: center;}#sk-container-id-6 label.sk-toggleable__label-arrow:before {content: \"▸\";float: left;margin-right: 0.25em;color: #696969;}#sk-container-id-6 label.sk-toggleable__label-arrow:hover:before {color: black;}#sk-container-id-6 div.sk-estimator:hover label.sk-toggleable__label-arrow:before {color: black;}#sk-container-id-6 div.sk-toggleable__content {max-height: 0;max-width: 0;overflow: hidden;text-align: left;background-color: #f0f8ff;}#sk-container-id-6 div.sk-toggleable__content pre {margin: 0.2em;color: black;border-radius: 0.25em;background-color: #f0f8ff;}#sk-container-id-6 input.sk-toggleable__control:checked~div.sk-toggleable__content {max-height: 200px;max-width: 100%;overflow: auto;}#sk-container-id-6 input.sk-toggleable__control:checked~label.sk-toggleable__label-arrow:before {content: \"▾\";}#sk-container-id-6 div.sk-estimator input.sk-toggleable__control:checked~label.sk-toggleable__label {background-color: #d4ebff;}#sk-container-id-6 div.sk-label input.sk-toggleable__control:checked~label.sk-toggleable__label {background-color: #d4ebff;}#sk-container-id-6 input.sk-hidden--visually {border: 0;clip: rect(1px 1px 1px 1px);clip: rect(1px, 1px, 1px, 1px);height: 1px;margin: -1px;overflow: hidden;padding: 0;position: absolute;width: 1px;}#sk-container-id-6 div.sk-estimator {font-family: monospace;background-color: #f0f8ff;border: 1px dotted black;border-radius: 0.25em;box-sizing: border-box;margin-bottom: 0.5em;}#sk-container-id-6 div.sk-estimator:hover {background-color: #d4ebff;}#sk-container-id-6 div.sk-parallel-item::after {content: \"\";width: 100%;border-bottom: 1px solid gray;flex-grow: 1;}#sk-container-id-6 div.sk-label:hover label.sk-toggleable__label {background-color: #d4ebff;}#sk-container-id-6 div.sk-serial::before {content: \"\";position: absolute;border-left: 1px solid gray;box-sizing: border-box;top: 0;bottom: 0;left: 50%;z-index: 0;}#sk-container-id-6 div.sk-serial {display: flex;flex-direction: column;align-items: center;background-color: white;padding-right: 0.2em;padding-left: 0.2em;position: relative;}#sk-container-id-6 div.sk-item {position: relative;z-index: 1;}#sk-container-id-6 div.sk-parallel {display: flex;align-items: stretch;justify-content: center;background-color: white;position: relative;}#sk-container-id-6 div.sk-item::before, #sk-container-id-6 div.sk-parallel-item::before {content: \"\";position: absolute;border-left: 1px solid gray;box-sizing: border-box;top: 0;bottom: 0;left: 50%;z-index: -1;}#sk-container-id-6 div.sk-parallel-item {display: flex;flex-direction: column;z-index: 1;position: relative;background-color: white;}#sk-container-id-6 div.sk-parallel-item:first-child::after {align-self: flex-end;width: 50%;}#sk-container-id-6 div.sk-parallel-item:last-child::after {align-self: flex-start;width: 50%;}#sk-container-id-6 div.sk-parallel-item:only-child::after {width: 0;}#sk-container-id-6 div.sk-dashed-wrapped {border: 1px dashed gray;margin: 0 0.4em 0.5em 0.4em;box-sizing: border-box;padding-bottom: 0.4em;background-color: white;}#sk-container-id-6 div.sk-label label {font-family: monospace;font-weight: bold;display: inline-block;line-height: 1.2em;}#sk-container-id-6 div.sk-label-container {text-align: center;}#sk-container-id-6 div.sk-container {/* jupyter's `normalize.less` sets `[hidden] { display: none; }` but bootstrap.min.css set `[hidden] { display: none !important; }` so we also need the `!important` here to be able to override the default hidden behavior on the sphinx rendered scikit-learn.org. See: https://github.com/scikit-learn/scikit-learn/issues/21755 */display: inline-block !important;position: relative;}#sk-container-id-6 div.sk-text-repr-fallback {display: none;}</style><div id=\"sk-container-id-6\" class=\"sk-top-container\"><div class=\"sk-text-repr-fallback\"><pre>Ridge(alpha=0.1)</pre><b>In a Jupyter environment, please rerun this cell to show the HTML representation or trust the notebook. <br />On GitHub, the HTML representation is unable to render, please try loading this page with nbviewer.org.</b></div><div class=\"sk-container\" hidden><div class=\"sk-item\"><div class=\"sk-estimator sk-toggleable\"><input class=\"sk-toggleable__control sk-hidden--visually\" id=\"sk-estimator-id-6\" type=\"checkbox\" checked><label for=\"sk-estimator-id-6\" class=\"sk-toggleable__label sk-toggleable__label-arrow\">Ridge</label><div class=\"sk-toggleable__content\"><pre>Ridge(alpha=0.1)</pre></div></div></div></div></div>"
      ],
      "text/plain": [
       "Ridge(alpha=0.1)"
      ]
     },
     "execution_count": 40,
     "metadata": {},
     "output_type": "execute_result"
    }
   ],
   "source": [
    "# Ridge regression\n",
    "ridge_model = Ridge(alpha=0.1)\n",
    "ridge_model.fit(X_train,y_train)"
   ]
  },
  {
   "cell_type": "code",
   "execution_count": 41,
   "id": "92f7d9ce",
   "metadata": {},
   "outputs": [
    {
     "name": "stdout",
     "output_type": "stream",
     "text": [
      "0.2278067339521543\n",
      "0.1648511991828834\n",
      "0.8471679465465928\n"
     ]
    }
   ],
   "source": [
    "rd_preds = ridge_model.predict(X_test)\n",
    "rd_mae = mean_absolute_error(y_test,rd_preds)\n",
    "rd_mse = mean_squared_error(y_test,rd_preds)\n",
    "rd_r2 = r2_score(y_test,rd_preds)\n",
    "\n",
    "print(rd_mae)\n",
    "print(rd_mse)\n",
    "print(rd_r2)"
   ]
  },
  {
   "cell_type": "markdown",
   "id": "7608fab6",
   "metadata": {},
   "source": [
    "### Validation"
   ]
  },
  {
   "cell_type": "code",
   "execution_count": 42,
   "id": "7fa5eb34",
   "metadata": {},
   "outputs": [],
   "source": [
    "from sklearn.model_selection import cross_val_predict"
   ]
  },
  {
   "cell_type": "code",
   "execution_count": 43,
   "id": "3716542c",
   "metadata": {},
   "outputs": [],
   "source": [
    "target_variable = 'Electricity Use (kBtu)'\n",
    "features = ['Gross Floor Area - Buildings (sq ft)', '# of Buildings', 'Weather Normalized Source EUI (kBtu/sq ft)']"
   ]
  },
  {
   "cell_type": "code",
   "execution_count": 44,
   "id": "9b5e0356",
   "metadata": {},
   "outputs": [],
   "source": [
    "predicted = cross_val_predict(rf_model, df[features], df[target_variable], cv=5)"
   ]
  },
  {
   "cell_type": "code",
   "execution_count": 45,
   "id": "9222a7cc",
   "metadata": {},
   "outputs": [
    {
     "name": "stdout",
     "output_type": "stream",
     "text": [
      "Mean Absolute Error: 0.09937181475078811\n",
      "Mean Squared Error: 0.03671970124818841\n",
      "Root Mean Squared Error: 0.19162385354696426\n",
      "R-squared: 0.963261962496638\n"
     ]
    }
   ],
   "source": [
    "mae = mean_absolute_error(df[target_variable], predicted)\n",
    "mse = mean_squared_error(df[target_variable], predicted)\n",
    "rmse = np.sqrt(mse)\n",
    "r2 = r2_score(df[target_variable], predicted)\n",
    "\n",
    "print(\"Mean Absolute Error:\", mae)\n",
    "print(\"Mean Squared Error:\", mse)\n",
    "print(\"Root Mean Squared Error:\", rmse)\n",
    "print(\"R-squared:\", r2)"
   ]
  },
  {
   "cell_type": "code",
   "execution_count": null,
   "id": "f39939f6",
   "metadata": {},
   "outputs": [],
   "source": []
  }
 ],
 "metadata": {
  "kernelspec": {
   "display_name": "Python 3",
   "language": "python",
   "name": "python3"
  },
  "language_info": {
   "codemirror_mode": {
    "name": "ipython",
    "version": 3
   },
   "file_extension": ".py",
   "mimetype": "text/x-python",
   "name": "python",
   "nbconvert_exporter": "python",
   "pygments_lexer": "ipython3",
   "version": "3.8.8"
  }
 },
 "nbformat": 4,
 "nbformat_minor": 5
}
